{
 "cells": [
  {
   "cell_type": "code",
   "execution_count": 26,
   "metadata": {},
   "outputs": [],
   "source": [
    "import os, errno\n",
    "import shutil\n",
    "import importlib\n",
    "\n",
    "import collage_maker"
   ]
  },
  {
   "cell_type": "code",
   "execution_count": 27,
   "metadata": {},
   "outputs": [],
   "source": [
    "ROOT_DIR = \"../media/myapp/static/myapp\"\n",
    "OUTPUT_DIR = \"collages\"\n",
    "BATCH_SIZE = 8\n",
    "EXCLUDE_NAMES = ('vendor', 'DP', 'admin')"
   ]
  },
  {
   "cell_type": "code",
   "execution_count": 28,
   "metadata": {},
   "outputs": [
    {
     "output_type": "stream",
     "name": "stdout",
     "text": "['../media/myapp/static/myapp/bme']\n"
    }
   ],
   "source": [
    "dirs = [f for f in os.listdir(ROOT_DIR) if os.path.isdir(os.path.join(ROOT_DIR, f)) and f not in EXCLUDE_NAMES]\n",
    "dirs = [os.path.join(ROOT_DIR, name) for name in dirs]\n",
    "print(dirs)\n",
    "\n",
    "OUTPUT_PATH = os.path.join(ROOT_DIR, OUTPUT_DIR)\n",
    "os.makedirs(OUTPUT_PATH, exist_ok=True)"
   ]
  },
  {
   "cell_type": "code",
   "execution_count": 29,
   "metadata": {},
   "outputs": [
    {
     "output_type": "stream",
     "name": "stdout",
     "text": "=== Entering ../media/myapp/static/myapp/bme ===\nMaking collage...\nCollage is ready!\n"
    }
   ],
   "source": [
    "importlib.reload(collage_maker)\n",
    "\n",
    "for current_dir in dirs:\n",
    "    name = os.path.basename(current_dir)\n",
    "    print('=== Entering', current_dir, '===')\n",
    "    args = {\n",
    "        'folder':current_dir,\n",
    "        'width':850 ,\n",
    "        'init_height':720,\n",
    "        'shuffle' : True ,\n",
    "        'output' : os.path.join(OUTPUT_PATH, name+'.jpg')\n",
    "    }\n",
    "    # img_names = [f for f in os.listdir(current_dir) if os.path.isfile(os.path.join(current_dir, f))]\n",
    "    collage_maker.prepare(**args)"
   ]
  }
 ],
 "metadata": {
  "kernelspec": {
   "display_name": "Python 3",
   "language": "python",
   "name": "python3"
  },
  "language_info": {
   "codemirror_mode": {
    "name": "ipython",
    "version": 3
   },
   "file_extension": ".py",
   "mimetype": "text/x-python",
   "name": "python",
   "nbconvert_exporter": "python",
   "pygments_lexer": "ipython3",
   "version": "3.8.2-final"
  }
 },
 "nbformat": 4,
 "nbformat_minor": 2
}